{
 "cells": [
  {
   "cell_type": "code",
   "execution_count": 2,
   "id": "8c0afe1e-44ce-40fd-94de-fc5a292757e5",
   "metadata": {},
   "outputs": [
    {
     "name": "stdin",
     "output_type": "stream",
     "text": [
      "Enter a number : 15\n",
      "Enter another number : 50\n"
     ]
    },
    {
     "name": "stdout",
     "output_type": "stream",
     "text": [
      "Before swaping\n",
      "x = 15 y = 50\n",
      "After swaping\n",
      "x = 50 y = 15\n"
     ]
    }
   ],
   "source": [
    "'''Q1. Declare two variables, `x` and `y`, and assign them integer values. Swap the\n",
    "values of these variables without using any temporary variable.'''\n",
    "\n",
    "x = int(input(\"Enter a number :\"))\n",
    "y = int(input(\"Enter another number :\"))\n",
    "print(\"Before swaping\")\n",
    "print(\"x =\",x ,\"y =\",y)\n",
    "x,y = y,x\n",
    "print(\"After swaping\")\n",
    "print(\"x =\",x ,\"y =\",y)"
   ]
  },
  {
   "cell_type": "code",
   "execution_count": 4,
   "id": "8386d1de-147d-4e59-8c8e-4f1f0d77e9d3",
   "metadata": {},
   "outputs": [
    {
     "name": "stdin",
     "output_type": "stream",
     "text": [
      "Enter length of rectangle : 56.5\n",
      "Enter breadth of rectangle : 40.2\n"
     ]
    },
    {
     "name": "stdout",
     "output_type": "stream",
     "text": [
      "Dimensions of rectangle are :\n",
      "Length of rectangle: 56.5 cm\n",
      "Breadth of rectangle: 40.2 cm\n",
      "Area of rectangle: 56.5 * 40.2 = 2271.3 cm square\n"
     ]
    }
   ],
   "source": [
    "'''Q2. Create a program that calculates the area of a rectangle. Take the length and\n",
    "width as inputs from the user and store them in variables. Calculate and\n",
    "display the area.'''\n",
    "\n",
    "l = float(input(\"Enter length of rectangle :\"))\n",
    "b = float(input(\"Enter breadth of rectangle :\"))\n",
    "print(\"Dimensions of rectangle are :\")\n",
    "print(\"Length of rectangle:\", l,\"cm\")\n",
    "print(\"Breadth of rectangle:\", b,\"cm\")\n",
    "area = l*b\n",
    "print(\"Area of rectangle:\", l,\"*\",b,\"=\",area,\"cm square\")"
   ]
  },
  {
   "cell_type": "code",
   "execution_count": 6,
   "id": "0f999509-f1c7-4cdf-8dfd-e2b7e4a74b57",
   "metadata": {},
   "outputs": [
    {
     "name": "stdin",
     "output_type": "stream",
     "text": [
      "Enter temperature in celsius : 97.5\n"
     ]
    },
    {
     "name": "stdout",
     "output_type": "stream",
     "text": [
      "Temperature in celsius is 97.5 °C\n",
      "Temperature in fahrenheit is 207.5 °F\n"
     ]
    }
   ],
   "source": [
    "'''Q3. Write a Python program that converts temperatures from Celsius to\n",
    "Fahrenheit. Take the temperature in Celsius as input, store it in a variable,\n",
    "convert it to Fahrenheit, and display the result.'''\n",
    "\n",
    "celsius = float(input(\"Enter temperature in celsius :\"))\n",
    "fahrenheit = ((9*celsius)/5) + 32\n",
    "print(\"Temperature in celsius is\", celsius,\"°C\")\n",
    "print(\"Temperature in fahrenheit is\", fahrenheit,\"°F\")"
   ]
  },
  {
   "cell_type": "code",
   "execution_count": 8,
   "id": "d7a59dc3-c598-4421-b9c1-232bb8ee1e52",
   "metadata": {},
   "outputs": [],
   "source": [
    "#STRING BASED QUESTIONS"
   ]
  },
  {
   "cell_type": "code",
   "execution_count": 9,
   "id": "7f35154d-4941-4c31-98d9-6d081e343a88",
   "metadata": {},
   "outputs": [
    {
     "name": "stdin",
     "output_type": "stream",
     "text": [
      "Enter a string : My name is Akshat Saxena.\n"
     ]
    },
    {
     "name": "stdout",
     "output_type": "stream",
     "text": [
      "Length of string provided is  25\n"
     ]
    }
   ],
   "source": [
    "'''Q1 Write a Python program that takes a string as input and prints the length of\n",
    "the string.'''\n",
    "\n",
    "a = input(\"Enter a string :\")\n",
    "length = len(a)\n",
    "print(\"Length of string provided is \",length)"
   ]
  },
  {
   "cell_type": "code",
   "execution_count": 10,
   "id": "239615ae-9131-4b27-b9c2-c1d6b7e63abb",
   "metadata": {},
   "outputs": [
    {
     "name": "stdin",
     "output_type": "stream",
     "text": [
      "Enter a sentence : My name is Akshat Saxena.\n"
     ]
    },
    {
     "name": "stdout",
     "output_type": "stream",
     "text": [
      "Number of vowels in sentence provided is  8\n"
     ]
    }
   ],
   "source": [
    "'''Q2 Create a program that takes a sentence from the user and counts the number\n",
    "of vowels (a, e, i, o, u) in the string.'''\n",
    "\n",
    "b = input(\"Enter a sentence :\")\n",
    "vowels = b.count(\"A\") + b.count(\"E\") + b.count(\"I\") + b.count(\"O\") + b.count(\"U\") + b.count(\"a\") + b.count(\"e\") + b.count(\"i\") + b.count(\"o\") + b.count(\"u\")\n",
    "print(\"Number of vowels in sentence provided is \",vowels)"
   ]
  },
  {
   "cell_type": "code",
   "execution_count": 11,
   "id": "1d844a73-6655-4ebb-959a-5da53a6c524f",
   "metadata": {},
   "outputs": [
    {
     "name": "stdin",
     "output_type": "stream",
     "text": [
      "Enter a string : My name is Akshat Saxena.\n"
     ]
    },
    {
     "name": "stdout",
     "output_type": "stream",
     "text": [
      "The reversed string is  .anexaS tahskA si eman yM\n"
     ]
    }
   ],
   "source": [
    "'''Q3 Given a string, reverse the order of characters using string slicing and print\n",
    "the reversed string.'''\n",
    "\n",
    "c = input(\"Enter a string :\")\n",
    "reverse_string = c[::-1]\n",
    "print(\"The reversed string is \",reverse_string)"
   ]
  },
  {
   "cell_type": "code",
   "execution_count": 14,
   "id": "d554138a-9845-4d67-9053-87b5740901e0",
   "metadata": {},
   "outputs": [
    {
     "name": "stdin",
     "output_type": "stream",
     "text": [
      "Enter a string : My name is Akshat Saxena.\n"
     ]
    },
    {
     "name": "stdout",
     "output_type": "stream",
     "text": [
      "The input string is not a palindrome.\n"
     ]
    }
   ],
   "source": [
    "'''Q4 Write a program that takes a string as input and checks if it is a palindrome\n",
    "(reads the same forwards and backwards).'''\n",
    "\n",
    "r = input(\"Enter a string :\")\n",
    "removed_whitespaces = r.replace(\" \", \"\").lower()\n",
    "reversed = removed_whitespaces[::-1]\n",
    "if reversed == removed_whitespaces:\n",
    "    print(\"The input string is a palindrome.\")\n",
    "else:\n",
    "    print(\"The input string is not a palindrome.\")"
   ]
  },
  {
   "cell_type": "code",
   "execution_count": 17,
   "id": "2cdfad6d-028d-4ed9-b680-0bda54f74408",
   "metadata": {},
   "outputs": [
    {
     "name": "stdin",
     "output_type": "stream",
     "text": [
      "Enter a string : My name is Akshat Saxena.\n"
     ]
    },
    {
     "name": "stdout",
     "output_type": "stream",
     "text": [
      "Modified string without spaces is  MynameisAkshatSaxena.\n"
     ]
    }
   ],
   "source": [
    "'''Q5 Create a program that takes a string as input and removes all the spaces from\n",
    "it. Print the modified string without spaces.'''\n",
    "\n",
    "string = input(\"Enter a string :\")\n",
    "modified_string = \"\"\n",
    "for i in string:\n",
    "    if i != \" \":\n",
    "        modified_string += i\n",
    "print(\"Modified string without spaces is \",modified_string)"
   ]
  }
 ],
 "metadata": {
  "kernelspec": {
   "display_name": "Python 3 (ipykernel)",
   "language": "python",
   "name": "python3"
  },
  "language_info": {
   "codemirror_mode": {
    "name": "ipython",
    "version": 3
   },
   "file_extension": ".py",
   "mimetype": "text/x-python",
   "name": "python",
   "nbconvert_exporter": "python",
   "pygments_lexer": "ipython3",
   "version": "3.10.8"
  }
 },
 "nbformat": 4,
 "nbformat_minor": 5
}
